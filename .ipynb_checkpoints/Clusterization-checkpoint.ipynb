{
 "cells": [
  {
   "cell_type": "markdown",
   "id": "fd0a8a53",
   "metadata": {},
   "source": [
    "# Clusterization\n",
    "\n",
    "This notebook hold research results. Of clusterization of all matricies. "
   ]
  },
  {
   "cell_type": "code",
   "execution_count": 2,
   "id": "39db97c9",
   "metadata": {},
   "outputs": [],
   "source": [
    "import matplotlib.pyplot as plt\n",
    "import numpy as np\n",
    "\n",
    "from fcmeans import FCM\n",
    "from lapin import lapin\n",
    "from faddis import faddis\n",
    "from IPython.display import clear_output\n",
    "from got.taxonomies.taxonomy import Taxonomy\n",
    "from got.taxonomies.pargenfs import get_cluster_k, pargenfs"
   ]
  },
  {
   "cell_type": "code",
   "execution_count": 23,
   "id": "28348ba3",
   "metadata": {},
   "outputs": [],
   "source": [
    "tax = Taxonomy(\"data/Taxonomy.txt\")\n",
    "lists2 = []\n",
    "for leave in tax.leaves:\n",
    "    lists2.append(leave.index + leave.name)\n",
    "lists2 = np.array(lists2)"
   ]
  },
  {
   "cell_type": "markdown",
   "id": "9543306d",
   "metadata": {},
   "source": [
    "## Functions"
   ]
  },
  {
   "cell_type": "code",
   "execution_count": 44,
   "id": "3ffc2f37",
   "metadata": {},
   "outputs": [],
   "source": [
    "def faddis_func(matrix, thresh, f = faddis):\n",
    "    B, member, contrib, intensity, lat, tt = f(matrix, thresh)\n",
    "    return member.tolist()\n",
    "\n",
    "def fcm(matrix, cl=4):\n",
    "    fcm = FCM(n_clusters=cl, max_iter=500)\n",
    "    fcm.fit(matrix)\n",
    "    return fcm.soft_predict(matrix).tolist()\n",
    "\n",
    "def do_GAP(res_matrix, num = 0, gamma_v=0.5, lambda_v=0.5, thresh=0.05):\n",
    "    tax = Taxonomy(\"data/Taxonomy.txt\")\n",
    "    \n",
    "    names = []\n",
    "    for leave in tax.leaves:\n",
    "        names.append(leave.name)\n",
    "    l_dict = get_cluster_k(tax.leaves, names, res_matrix, num)\n",
    "    summ = 0\n",
    "    for el in l_dict:\n",
    "        summ += l_dict[el]\n",
    "    res = pargenfs(l_dict, tax, gamma_v=gamma_v, lambda_v=lambda_v, threshold=0.05)\n",
    "    clear_output()\n",
    "    return res[-1]"
   ]
  },
  {
   "cell_type": "markdown",
   "id": "2bf0c46e",
   "metadata": {},
   "source": [
    "## Abstract normal matrix"
   ]
  },
  {
   "cell_type": "code",
   "execution_count": 8,
   "id": "22cecac8",
   "metadata": {},
   "outputs": [],
   "source": [
    "types_matrix = np.loadtxt('data/NCrossMatrix1_1.txt')"
   ]
  },
  {
   "cell_type": "code",
   "execution_count": 9,
   "id": "d48d8ef1",
   "metadata": {},
   "outputs": [
    {
     "data": {
      "image/png": "[encoded data removed]",
      "text/plain": [
       "<Figure size 640x480 with 1 Axes>"
      ]
     },
     "metadata": {},
     "output_type": "display_data"
    }
   ],
   "source": [
    "plt.hist(types_matrix.flatten(), bins = 50)\n",
    "plt.yscale('log')"
   ]
  },
  {
   "cell_type": "code",
   "execution_count": 48,
   "id": "eb0d1fab",
   "metadata": {},
   "outputs": [
    {
     "name": "stdout",
     "output_type": "stream",
     "text": [
      "Result:\n",
      "\n",
      " CLUSTER 0:\n",
      "\n",
      " Normal:  1.1.1.5.boosting; 1.1.1.13.2.inverse reinforcement learning; 1.1.1.13.5.adversarial learning; 1.1.1.16.markov decision processes; 1.1.2.2.data provenance; 2.1.1.2.markov networks; 2.1.5.8.cluster analysis; 3.1.3.3.1.data locking; 3.1.3.9.3.distributed database recovery; 3.1.5.3.data exchange; 3.2.1.1.data cleaning; 3.2.1.7.4.anomaly detection; 5.1.1.2.information extraction; 5.1.2.2.5.recommender systems; 5.1.3.2.1.1.2d pca; 5.2.1.1.2.learning to rank; 5.2.1.3.1.sequential decision making; 5.2.1.3.3.apprenticeship learning; 5.2.1.3.4.multi-agent reinforcement learning; 5.2.3.2.2.gaussian processes; 5.2.3.5.6.bayesian network models; 5.2.3.15.support vector machines\n",
      "\n",
      " Upped:  1.1.1.4. kernel methods; 1.1.1.13. reinforcement learning; 1.1.2.1. data exchange; 3.1.3.3. database transaction processing; 3.1.3.9. distributed database transactions; 3.1.5.3. data exchange; 3.4.5.3. recommender systems; 3.4.5.4. information extraction; 5.1.1.2. information extraction; 5.1.2.2.5. recommender systems; 5.2.1.3. reinforcement learning; 5.2.3.2.2. gaussian processes; 5.2.3.15. support vector machines\n",
      "\n",
      " CLUSTER 1:\n",
      "\n",
      " Normal:  1.1.1.4.1.support vector machines; 1.1.1.4.2.gaussian processes; 1.1.1.13.1.sequential decision making; 1.1.1.13.3.apprenticeship learning; 1.1.1.13.4.multi-agent reinforcement learning; 1.1.2.1.data exchange; 2.1.1.1.bayesian networks; 3.1.1.5.3.data provenance; 3.1.3.3.3.database recovery; 3.1.3.9.1.distributed data locking; 3.1.5.4.data cleaning; 3.4.4.5.learning to rank; 3.4.5.3.recommender systems; 3.4.5.4.information extraction; 5.2.1.2.1.cluster analysis; 5.2.1.2.2.anomaly detection; 5.2.1.3.2.inverse reinforcement learning; 5.2.1.3.5.adversarial learning; 5.2.3.5.7.markov network models; 5.2.3.7.3.1.2d pca; 5.2.3.10.markov decision processes; 5.2.4.2.1.boosting\n",
      "\n",
      " Upped:  1.1.1.5. boosting; 1.1.1.13. reinforcement learning; 1.1.1.16. markov decision processes; 1.1.2.2. data provenance; 2.1.5.8. cluster analysis; 3.1.1.5.3. data provenance; 3.1.3.3. database transaction processing; 3.1.3.9. distributed database transactions; 3.2.1.7.4. anomaly detection; 5.1.3.2.1. image representations; 5.2.1.2. unsupervised learning; 5.2.1.3. reinforcement learning; 5.2.3.7.3. principal component analysis; 5.2.3.10. markov decision processes; 5.2.4.2. ensemble methods\n",
      "\n",
      " CLUSTER 2:\n",
      "\n",
      " Normal:  1.1.1.13.4.multi-agent reinforcement learning; 1.1.1.13.5.adversarial learning; 2.1.1.2.markov networks; 3.1.1.5.3.data provenance; 3.1.5.3.data exchange; 3.1.5.4.data cleaning; 3.4.5.3.recommender systems; 5.2.1.1.2.learning to rank; 5.2.1.2.1.cluster analysis; 5.2.1.2.2.anomaly detection; 5.2.1.3.1.sequential decision making; 5.2.1.3.2.inverse reinforcement learning; 5.2.1.3.3.apprenticeship learning; 5.2.3.2.2.gaussian processes; 5.2.3.5.6.bayesian network models; 5.2.3.7.3.1.2d pca; 5.2.3.10.markov decision processes; 5.2.4.2.1.boosting\n",
      "\n",
      " Upped:  1.1.1.4. kernel methods; 1.1.1.5. boosting; 1.1.1.13. reinforcement learning; 1.1.1.16. markov decision processes; 1.1.2.1. data exchange; 1.1.2.2. data provenance; 2.1.1.2. markov networks; 2.1.5.8. cluster analysis; 3.1.1.5.3. data provenance; 3.1.5.3. data exchange; 3.4.4.5. learning to rank; 5.1.3.2.1. image representations; 5.2.1.1.2. learning to rank; 5.2.1.2.1. cluster analysis; 5.2.1.3. reinforcement learning; 5.2.3.2.2. gaussian processes; 5.2.3.5.6. bayesian network models; 5.2.3.7.3. principal component analysis; 5.2.3.10. markov decision processes; 5.2.4.2. ensemble methods\n"
     ]
    }
   ],
   "source": [
    "lapin_matrix = lapin(types_matrix)\n",
    "res_matrix = np.array(faddis_func(lapin_matrix, 0.01, f=faddis))\n",
    "res_matrix = res_matrix * (res_matrix > 0.01)\n",
    "\n",
    "ans = []\n",
    "for i in range(len(res_matrix[0])):\n",
    "    leaves = lists2[res_matrix[:, i] > 0]\n",
    "    res = do_GAP(res_matrix, i, gamma_v=1.5, lambda_v=0.2, thresh=0.05)[-2]\n",
    "    ans.append((leaves, res))\n",
    "    \n",
    "    \n",
    "print(\"Result:\")\n",
    "for i in range(len(res_matrix[0])):\n",
    "    print(\"\\n CLUSTER \" + str(i) + ':')\n",
    "    print(\"\\n\", \"Normal: \", '; '.join(ans[i][0]))\n",
    "    print(\"\\n\", \"Upped: \", ans[i][1])"
   ]
  },
  {
   "cell_type": "markdown",
   "id": "f1f05e37",
   "metadata": {},
   "source": [
    "## Abstract second matrix"
   ]
  },
  {
   "cell_type": "code",
   "execution_count": 49,
   "id": "74449623",
   "metadata": {},
   "outputs": [],
   "source": [
    "types_matrix = np.loadtxt('data/NCrossMatrix2_1.txt')"
   ]
  },
  {
   "cell_type": "code",
   "execution_count": 50,
   "id": "c1440d75",
   "metadata": {},
   "outputs": [
    {
     "data": {
      "image/png": "[encoded data removed]",
      "text/plain": [
       "<Figure size 640x480 with 1 Axes>"
      ]
     },
     "metadata": {},
     "output_type": "display_data"
    }
   ],
   "source": [
    "plt.hist(types_matrix.flatten(), bins = 50)\n",
    "plt.yscale('log')"
   ]
  },
  {
   "cell_type": "code",
   "execution_count": 51,
   "id": "579e12ac",
   "metadata": {
    "scrolled": false
   },
   "outputs": [
    {
     "name": "stdout",
     "output_type": "stream",
     "text": [
      "Result:\n",
      "\n",
      " CLUSTER 0:\n",
      "\n",
      " Normal:  1.1.1.5.boosting; 1.1.1.13.2.inverse reinforcement learning; 1.1.1.16.markov decision processes; 1.1.2.1.data exchange; 3.1.1.5.3.data provenance; 3.2.1.1.data cleaning; 3.2.1.7.4.anomaly detection; 3.4.4.5.learning to rank; 3.4.5.4.information extraction; 5.1.2.2.5.recommender systems; 5.1.3.2.1.1.2d pca; 5.2.1.2.1.cluster analysis; 5.2.1.3.1.sequential decision making; 5.2.1.3.3.apprenticeship learning; 5.2.1.3.4.multi-agent reinforcement learning; 5.2.3.2.2.gaussian processes\n",
      "\n",
      " Upped:  1.1.1.4. kernel methods; 1.1.1.13. reinforcement learning; 1.1.2.2. data provenance; 2.1.5.8. cluster analysis; 3.1.1.5.3. data provenance; 3.1.5.4. data cleaning; 3.2.1.1. data cleaning; 3.4.5.3. recommender systems; 5.1.2.2.5. recommender systems; 5.2.1.2.1. cluster analysis; 5.2.1.3. reinforcement learning; 5.2.3.2.2. gaussian processes\n",
      "\n",
      " CLUSTER 1:\n",
      "\n",
      " Normal:  1.1.1.4.2.gaussian processes; 1.1.1.13.1.sequential decision making; 1.1.1.13.3.apprenticeship learning; 1.1.1.13.4.multi-agent reinforcement learning; 1.1.2.2.data provenance; 2.1.5.8.cluster analysis; 3.1.5.3.data exchange; 3.1.5.4.data cleaning; 3.4.5.3.recommender systems; 5.1.1.2.information extraction; 5.2.1.1.2.learning to rank; 5.2.1.2.2.anomaly detection; 5.2.1.3.2.inverse reinforcement learning; 5.2.3.7.3.1.2d pca; 5.2.3.10.markov decision processes; 5.2.4.2.1.boosting\n",
      "\n",
      " Upped:  1.1.1.5. boosting; 1.1.1.13.2. inverse reinforcement learning; 1.1.1.16. markov decision processes; 1.1.2.1. data exchange; 3.1.5.3. data exchange; 3.2.1.7.4. anomaly detection; 3.4.4.5. learning to rank; 3.4.5.4. information extraction; 5.1.1.2. information extraction; 5.1.3.2.1. image representations; 5.2.1.1.2. learning to rank; 5.2.1.2.2. anomaly detection; 5.2.1.3.2. inverse reinforcement learning; 5.2.3.7.3. principal component analysis; 5.2.3.10. markov decision processes; 5.2.4.2. ensemble methods\n",
      "\n",
      " CLUSTER 2:\n",
      "\n",
      " Normal:  1.1.1.4.1.support vector machines; 1.1.1.4.2.gaussian processes; 1.1.1.5.boosting; 1.1.1.13.1.sequential decision making; 1.1.1.13.3.apprenticeship learning; 1.1.1.13.5.adversarial learning; 2.1.5.8.cluster analysis; 3.1.1.5.3.data provenance; 3.1.5.3.data exchange; 3.2.1.1.data cleaning; 3.4.5.3.recommender systems; 5.1.1.2.information extraction; 5.2.1.1.2.learning to rank; 5.2.1.3.2.inverse reinforcement learning; 5.2.1.3.4.multi-agent reinforcement learning; 5.2.3.7.3.1.2d pca; 5.2.3.10.markov decision processes\n",
      "\n",
      " Upped:  1.1.1.13.4. multi-agent reinforcement learning; 1.1.1.16. markov decision processes; 1.1.2.1. data exchange; 1.1.2.2. data provenance; 3.1.1.5.3. data provenance; 3.1.5.3. data exchange; 3.1.5.4. data cleaning; 3.2.1.1. data cleaning; 3.4.4.5. learning to rank; 5.1.3.2.1. image representations; 5.2.1.1.2. learning to rank; 5.2.1.3.4. multi-agent reinforcement learning; 5.2.3.7.3. principal component analysis; 5.2.3.10. markov decision processes\n",
      "\n",
      " CLUSTER 3:\n",
      "\n",
      " Normal:  1.1.1.13.2.inverse reinforcement learning; 1.1.1.13.4.multi-agent reinforcement learning; 1.1.1.16.markov decision processes; 1.1.2.1.data exchange; 1.1.2.2.data provenance; 3.1.5.4.data cleaning; 3.4.4.5.learning to rank; 5.1.2.2.5.recommender systems; 5.1.3.2.1.1.2d pca; 5.2.1.2.1.cluster analysis; 5.2.1.3.1.sequential decision making; 5.2.1.3.3.apprenticeship learning; 5.2.1.3.5.adversarial learning; 5.2.3.2.2.gaussian processes; 5.2.3.15.support vector machines\n",
      "\n",
      " Upped:  1.1.1.4. kernel methods; 1.1.1.13. reinforcement learning; 2.1.5.8. cluster analysis; 3.4.5.3. recommender systems; 5.1.2.2.5. recommender systems; 5.2.1.2.1. cluster analysis; 5.2.1.3. reinforcement learning; 5.2.3.2.2. gaussian processes; 5.2.3.15. support vector machines\n",
      "\n",
      " CLUSTER 4:\n",
      "\n",
      " Normal:  1.1.1.2.boolean function learning; 1.1.1.5.boosting; 1.1.1.6.bayesian analysis; 1.1.1.7.inductive inference; 1.1.1.13.1.sequential decision making; 1.1.1.14.active learning; 1.1.1.16.markov decision processes; 1.1.1.17.regret bounds; 1.1.2.2.data provenance; 1.1.2.5.database constraints theory; 1.1.2.6.database interoperability; 1.1.2.9.data integration; 1.1.2.11.theory of database privacy and security; 2.1.1.1.bayesian networks; 2.1.1.2.markov networks; 2.1.1.3.factor graphs; 2.1.1.4.decision diagrams; 2.1.1.6.causal networks; 2.1.1.8.1.kernel density estimators; 2.1.1.8.3.bayesian nonparametric models; 2.1.2.5.1. quantile regression; 2.1.3.1.variable elimination; 2.1.3.2.loopy belief propagation; 2.1.3.3.variational methods; 2.1.3.7.1.factorial hmm; 2.1.3.8.2.jackknifing; 2.1.3.9.random number generation; 2.1.5.2.contingency table analysis; 2.1.5.3.1.robust regression; 2.1.5.4.time series analysis; 2.1.5.5.survival analysis; 2.1.5.6.renewal theory; 2.1.5.8.cluster analysis; 2.1.5.10.exploratory data analysis; 2.1.8.distribution functions; 3.1.1.1.relational database model; 3.1.1.3.2.network data models; 3.1.1.4.physical data models; 3.1.1.5.3.data provenance; 3.1.1.5.4.incomplete data; 3.1.1.5.5.temporal data; 3.1.1.5.6.uncertainty; 3.1.1.5.7.inconsistent data; 3.1.2.1.1.multidimensional range search; 3.1.2.1.2.data scans; 3.1.2.1.3.point lookups; 3.1.2.1.4.unidimensional range search; 3.1.2.1.5.proximity search; 3.1.2.2.1.data compression; 3.1.3.2.2.query operators; 3.1.3.3.1.data locking; 3.1.3.3.3.database recovery; 3.1.3.5.1.key-value stores; 3.1.3.6.triggers and rules; 3.1.3.7.database views; 3.1.3.8.integrity checking; 3.1.3.9.1.distributed data locking; 3.1.3.9.2.deadlocks; 3.1.4.2.1xpath; 3.1.5.2.extraction transformation and loading; 3.1.5.5.wrappers; 3.1.5.6.mediators and data integration; 3.1.5.8.data warehouses; 3.1.5.9.federated databases; 3.1.5.10.quality of the data; 3.1.5.11.validation of data; 3.1.5.12.click through data; 3.2.1.2.1.item-based; 3.2.1.3.2.interestingness; 3.2.1.5.nearest-neighbor search; 3.2.1.7.4.anomaly detection; 3.2.1.7.5.critical nodes detection; 3.2.1.11.2.key-phrase indexing; 3.2.1.9.3.market graph; 3.2.1.12.formal concept analysis; 3.3.1.3.1deep web; 3.3.1.4.web log analysis; 3.3.1.5.traffic analysis; 3.4.1.2.document topic models; 3.4.1.3.content analysis and feature selection; 3.4.1.5.document collection models; 3.4.2.3.query log analysis; 3.4.2.4.query suggestion; 3.4.3.3.search interfaces; 3.4.3.4.collaborative search; 3.4.4.1.rank aggregation; 3.4.4.4.similarity measures; 3.4.4.6.combination fusion and federated search; 3.4.4.7.information retrieval diversity; 3.4.4.8.top-k retrieval in databases; 3.4.4.9.novelty in information retrieval; 3.4.5.4.information extraction; 3.4.5.5.sentiment analysis; 3.4.5.6.expert search; 3.4.5.10.business intelligence; 3.4.6.1.test collections; 3.4.6.2.relevance assessment; 3.4.6.3.retrieval effectiveness; 3.4.7.2.1.image search; 3.4.7.2.2.video search; 3.4.7.3.1.enterprise search; 3.4.7.3.2.desktop search; 3.4.7.3.3.web and social media search; 3.5.1.smart home; 3.5.2.smart city; 4.1.2.3.heat maps; 4.1.2.4.graph drawings; 4.1.2.5.dendrograms; 4.1.2.6.cladograms; 4.1.3.2.visual analytics; 4.1.3.3.geographic visualization; 4.1.7.visualization design and evaluation methods; 5.1.1.2.information extraction; 5.1.2.2.6.conceptual design; 5.1.2.2.8.knowledge graph; 5.1.3.1.1.interest point and salient region detections; 5.1.3.1.5.object detection; 5.1.3.1.7.object identification; 5.1.3.1.8.tracking; 5.2.1.1.1.ranking; 5.2.1.1.4.supervised learning by regression; 5.2.1.2.1.cluster analysis; 5.2.1.2.2.anomaly detection; 5.2.1.2.7.1.graph embedding; 5.2.1.3.1.sequential decision making; 5.2.1.4.1.transfer learning; 5.2.1.4.3.learning under covariate shift; 5.2.2.3.learning from demonstrations; 5.2.3.1.2.splitting criteria; 5.2.3.5.6.bayesian network models; 5.2.3.5.7.markov network models; 5.2.3.7.2.factor analysis; 5.2.3.7.4.canonical correlation analysis; 5.2.3.7.8.independent component analysis; 5.2.3.9.instance-based learning; 5.2.3.10.markov decision processes; 5.2.3.11.partially-observable markov decision processes; 5.2.3.13.1.deep belief networks; 5.2.3.14.multiresolution; 5.2.4.1.1.value iteration; 5.2.4.1.4.temporal difference learning; 5.2.4.2.1.boosting; 5.2.4.4.feature selection; 5.2.4.5.1.generalized eigenvalue; 5.2.5.cross-validation; 5.2.6.4.recurrent neural networks rnn; 5.2.6.5.transformer nn; 5.2.6.6.generative adversarial networks gan\n",
      "\n",
      " Upped:  1.1.1.13.1. sequential decision making; 1.1.1.16. markov decision processes; 1.1.1.17. regret bounds; 1.1.2.9. data integration; 1.1.2.11. theory of database privacy and security; 2.1.1.4. decision diagrams; 2.1.5. statistical paradigms; 3.1.1.5.6. uncertainty; 3.1.1.5.7. inconsistent data; 3.1.2.1.2. data scans; 3.1.3.3. database transaction processing; 3.1.3.7. database views; 3.1.3.8. integrity checking; 3.1.3.9. distributed database transactions; 3.1.5.6. mediators and data integration; 3.1.5.12. automatic data extraction; 3.2.1.3. association rules; 3.3. world wide web; 3.4.4.1. rank aggregation; 3.4.5.6. expert search; 3.4.7. specialized information retrieval; 3.5. internet of things; 4.1.2.5. dendrograms; 4.1.3.2. visual analytics; 5.1.2.2.8. knowledge graph; 5.1.3.1.5. object detection; 5.1.3.1.8. tracking; 5.2.1.1.1. ranking; 5.2.1.3.1. sequential decision making; 5.2.3.7.2. factor analysis; 5.2.3.10. markov decision processes; 5.2.3.11. partially-observable markov decision processes; 5.2.3.13. learning latent representations; 5.2.6.5. transformer nn\n"
     ]
    }
   ],
   "source": [
    "lapin_matrix = lapin(types_matrix)\n",
    "res_matrix = np.array(faddis_func(lapin_matrix, 0.01, f=faddis))\n",
    "res_matrix = res_matrix * (res_matrix > 0.01)\n",
    "\n",
    "ans = []\n",
    "for i in range(len(res_matrix[0])):\n",
    "    leaves = lists2[res_matrix[:, i] > 0]\n",
    "    res = do_GAP(res_matrix, i, gamma_v=1.5, lambda_v=0.2, thresh=0.05)[-2]\n",
    "    ans.append((leaves, res))\n",
    "    \n",
    "    \n",
    "print(\"Result:\")\n",
    "for i in range(len(res_matrix[0])):\n",
    "    print(\"\\n CLUSTER \" + str(i) + ':')\n",
    "    print(\"\\n\", \"Normal: \", '; '.join(ans[i][0]))\n",
    "    print(\"\\n\", \"Upped: \", ans[i][1])"
   ]
  },
  {
   "cell_type": "markdown",
   "id": "981cedb4",
   "metadata": {},
   "source": [
    "## Keywords first matrix"
   ]
  },
  {
   "cell_type": "code",
   "execution_count": 55,
   "id": "b4b85668",
   "metadata": {},
   "outputs": [],
   "source": [
    "types_matrix = np.loadtxt('data/NCrossMatrix1_2.txt')"
   ]
  },
  {
   "cell_type": "code",
   "execution_count": 56,
   "id": "66c26ed2",
   "metadata": {},
   "outputs": [
    {
     "data": {
      "image/png": "[encoded data removed]",
      "text/plain": [
       "<Figure size 640x480 with 1 Axes>"
      ]
     },
     "metadata": {},
     "output_type": "display_data"
    }
   ],
   "source": [
    "plt.hist(types_matrix.flatten(), bins = 50)\n",
    "plt.yscale('log')"
   ]
  },
  {
   "cell_type": "code",
   "execution_count": 57,
   "id": "ef9b55c0",
   "metadata": {},
   "outputs": [
    {
     "name": "stdout",
     "output_type": "stream",
     "text": [
      "Result:\n",
      "\n",
      " CLUSTER 0:\n",
      "\n",
      " Normal:  1.1.1.4.2.gaussian processes; 1.1.1.13.1.sequential decision making; 1.1.1.13.3.apprenticeship learning; 1.1.1.13.4.multi-agent reinforcement learning; 1.1.2.1.data exchange; 3.1.1.5.3.data provenance; 3.2.1.1.data cleaning; 3.2.1.7.4.anomaly detection; 3.4.5.4.information extraction; 5.2.1.1.2.learning to rank; 5.2.1.2.1.cluster analysis; 5.2.1.3.2.inverse reinforcement learning; 5.2.1.3.5.adversarial learning; 5.2.3.7.3.1.2d pca; 5.2.3.10.markov decision processes; 5.2.3.15.support vector machines; 5.2.4.2.1.boosting\n",
      "\n",
      " Upped:  1.1.1.4. kernel methods; 1.1.1.13.2. inverse reinforcement learning; 1.1.1.16. markov decision processes; 1.1.2.2. data provenance; 2.1.5.8. cluster analysis; 3.1.1.5.3. data provenance; 3.1.5.4. data cleaning; 3.2.1.1. data cleaning; 3.4.4.5. learning to rank; 5.1.3.2.1. image representations; 5.2.1.1.2. learning to rank; 5.2.1.2.1. cluster analysis; 5.2.1.3.2. inverse reinforcement learning; 5.2.3.7.3. principal component analysis; 5.2.3.10. markov decision processes; 5.2.3.15. support vector machines\n",
      "\n",
      " CLUSTER 1:\n",
      "\n",
      " Normal:  1.1.1.4.1.support vector machines; 1.1.1.5.boosting; 1.1.1.13.2.inverse reinforcement learning; 1.1.1.13.5.adversarial learning; 1.1.1.16.markov decision processes; 1.1.2.2.data provenance; 2.1.5.8.cluster analysis; 3.1.5.3.data exchange; 3.1.5.4.data cleaning; 3.4.4.5.learning to rank; 5.1.1.2.information extraction; 5.1.3.2.1.1.2d pca; 5.2.1.2.2.anomaly detection; 5.2.1.3.1.sequential decision making; 5.2.1.3.3.apprenticeship learning; 5.2.1.3.4.multi-agent reinforcement learning; 5.2.3.2.2.gaussian processes\n",
      "\n",
      " Upped:  1.1.1.4. kernel methods; 1.1.1.13. reinforcement learning; 1.1.2.1. data exchange; 3.1.5.3. data exchange; 3.2.1.7.4. anomaly detection; 3.4.5.4. information extraction; 5.1.1.2. information extraction; 5.2.1.2.2. anomaly detection; 5.2.1.3. reinforcement learning; 5.2.3.2.2. gaussian processes\n",
      "\n",
      " CLUSTER 2:\n",
      "\n",
      " Normal:  1.1.1.4.1.support vector machines; 1.1.1.4.2.gaussian processes; 1.1.1.13.2.inverse reinforcement learning; 1.1.1.13.4.multi-agent reinforcement learning; 1.1.1.13.5.adversarial learning; 1.1.1.16.markov decision processes; 1.1.2.2.data provenance; 2.1.5.8.cluster analysis; 3.1.5.3.data exchange; 3.2.1.1.data cleaning; 3.2.1.7.4.anomaly detection; 3.4.4.5.learning to rank; 5.1.1.2.information extraction; 5.1.2.2.5.recommender systems; 5.2.1.3.1.sequential decision making; 5.2.1.3.3.apprenticeship learning; 5.2.3.7.3.1.2d pca\n",
      "\n",
      " Upped:  1.1.1.13. reinforcement learning; 1.1.2.1. data exchange; 3.1.5.3. data exchange; 3.1.5.4. data cleaning; 3.2.1.1. data cleaning; 3.4.5.3. recommender systems; 5.1.2.2.5. recommender systems; 5.2.1.3. reinforcement learning\n"
     ]
    }
   ],
   "source": [
    "lapin_matrix = lapin(types_matrix)\n",
    "res_matrix = np.array(faddis_func(lapin_matrix, 0.01, f=faddis))\n",
    "res_matrix = res_matrix * (res_matrix > 0.01)\n",
    "\n",
    "ans = []\n",
    "for i in range(len(res_matrix[0])):\n",
    "    leaves = lists2[res_matrix[:, i] > 0]\n",
    "    res = do_GAP(res_matrix, i, gamma_v=1.5, lambda_v=0.2, thresh=0.05)[-2]\n",
    "    ans.append((leaves, res))\n",
    "    \n",
    "    \n",
    "print(\"Result:\")\n",
    "for i in range(len(res_matrix[0])):\n",
    "    print(\"\\n CLUSTER \" + str(i) + ':')\n",
    "    print(\"\\n\", \"Normal: \", '; '.join(ans[i][0]))\n",
    "    print(\"\\n\", \"Upped: \", ans[i][1])"
   ]
  },
  {
   "cell_type": "markdown",
   "id": "9903ae73",
   "metadata": {},
   "source": [
    "## Keywords second matrix"
   ]
  },
  {
   "cell_type": "code",
   "execution_count": 58,
   "id": "a3da63c5",
   "metadata": {},
   "outputs": [],
   "source": [
    "types_matrix = np.loadtxt('data/NCrossMatrix2_2.txt')"
   ]
  },
  {
   "cell_type": "code",
   "execution_count": 59,
   "id": "739d5fb3",
   "metadata": {},
   "outputs": [
    {
     "data": {
      "image/png": "[encoded data removed]",
      "text/plain": [
       "<Figure size 640x480 with 1 Axes>"
      ]
     },
     "metadata": {},
     "output_type": "display_data"
    }
   ],
   "source": [
    "plt.hist(types_matrix.flatten(), bins = 50)\n",
    "plt.yscale('log')"
   ]
  },
  {
   "cell_type": "code",
   "execution_count": 71,
   "id": "30554c8e",
   "metadata": {},
   "outputs": [
    {
     "name": "stdout",
     "output_type": "stream",
     "text": [
      "Result:\n",
      "\n",
      " CLUSTER 0:\n",
      "\n",
      " Normal:  1.1.1.4.1.support vector machines; 1.1.1.4.2.gaussian processes; 1.1.1.13.2.inverse reinforcement learning; 1.1.1.13.4.multi-agent reinforcement learning; 1.1.2.2.data provenance; 2.1.5.8.cluster analysis; 3.1.5.3.data exchange; 3.1.5.4.data cleaning; 3.4.4.5.learning to rank; 3.4.5.3.recommender systems; 5.1.3.2.1.1.2d pca; 5.2.1.2.2.anomaly detection; 5.2.1.3.1.sequential decision making; 5.2.1.3.3.apprenticeship learning; 5.2.3.10.markov decision processes; 5.2.4.2.1.boosting\n",
      "\n",
      " Upped:  1.1.1.5. boosting; 1.1.1.13. reinforcement learning; 1.1.1.16. markov decision processes; 1.1.2.1. data exchange; 3.1.5.3. data exchange; 3.2.1.7.4. anomaly detection; 5.2.1.2.2. anomaly detection; 5.2.1.3. reinforcement learning; 5.2.3.10. markov decision processes; 5.2.4.2. ensemble methods\n",
      "\n",
      " CLUSTER 1:\n",
      "\n",
      " Normal:  1.1.1.5.boosting; 1.1.1.13.1.sequential decision making; 1.1.1.13.3.apprenticeship learning; 1.1.1.16.markov decision processes; 1.1.2.1.data exchange; 3.1.1.5.3.data provenance; 3.2.1.1.data cleaning; 3.2.1.7.4.anomaly detection; 5.1.2.2.5.recommender systems; 5.2.1.1.2.learning to rank; 5.2.1.2.1.cluster analysis; 5.2.1.3.2.inverse reinforcement learning; 5.2.1.3.4.multi-agent reinforcement learning; 5.2.3.2.2.gaussian processes; 5.2.3.7.3.1.2d pca; 5.2.3.15.support vector machines\n",
      "\n",
      " Upped:  1.1.1.4. kernel methods; 1.1.2.2. data provenance; 2.1.5.8. cluster analysis; 3.1.1.5.3. data provenance; 3.1.5.4. data cleaning; 3.2.1.1. data cleaning; 3.4.4.5. learning to rank; 3.4.5.3. recommender systems; 5.1.2.2.5. recommender systems; 5.1.3.2.1. image representations; 5.2.1.1.2. learning to rank; 5.2.1.2.1. cluster analysis; 5.2.3.2.2. gaussian processes; 5.2.3.7.3. principal component analysis; 5.2.3.15. support vector machines\n",
      "\n",
      " CLUSTER 2:\n",
      "\n",
      " Normal:  1.1.1.4.2.gaussian processes; 1.1.1.13.2.inverse reinforcement learning; 1.1.1.16.markov decision processes; 1.1.2.1.data exchange; 1.1.2.2.data provenance; 3.2.1.1.data cleaning; 3.4.4.5.learning to rank; 5.1.1.2.information extraction; 5.1.2.2.5.recommender systems; 5.1.3.2.1.1.2d pca; 5.2.1.2.1.cluster analysis; 5.2.1.2.2.anomaly detection; 5.2.1.3.1.sequential decision making; 5.2.1.3.3.apprenticeship learning; 5.2.1.3.4.multi-agent reinforcement learning; 5.2.1.3.5.adversarial learning; 5.2.3.15.support vector machines; 5.2.4.2.1.boosting\n",
      "\n",
      " Upped:  1.1.1.4. kernel methods; 1.1.1.5. boosting; 1.1.1.13. reinforcement learning; 2.1.5.8. cluster analysis; 3.2.1.7.4. anomaly detection; 3.4.5.3. recommender systems; 3.4.5.4. information extraction; 5.1.1.2. information extraction; 5.1.2.2.5. recommender systems; 5.2.1.2. unsupervised learning; 5.2.1.3. reinforcement learning; 5.2.3.15. support vector machines; 5.2.4.2. ensemble methods\n",
      "\n",
      " CLUSTER 3:\n",
      "\n",
      " Normal:  1.1.1.4.1.support vector machines; 1.1.1.5.boosting; 1.1.1.13.1.sequential decision making; 1.1.1.13.3.apprenticeship learning; 1.1.1.13.4.multi-agent reinforcement learning; 1.1.1.13.5.adversarial learning; 2.1.5.8.cluster analysis; 3.1.1.5.3.data provenance; 3.1.5.3.data exchange; 3.2.1.7.4.anomaly detection; 3.4.5.3.recommender systems; 3.4.5.4.information extraction; 5.2.1.1.2.learning to rank; 5.2.1.3.2.inverse reinforcement learning; 5.2.3.2.2.gaussian processes; 5.2.3.7.3.1.2d pca; 5.2.3.10.markov decision processes\n",
      "\n",
      " Upped:  1.1.1.4. kernel methods; 1.1.1.13.2. inverse reinforcement learning; 1.1.1.16. markov decision processes; 1.1.2.1. data exchange; 1.1.2.2. data provenance; 3.1.1.5.3. data provenance; 3.1.5.3. data exchange; 3.4.4.5. learning to rank; 5.1.3.2.1. image representations; 5.2.1.1.2. learning to rank; 5.2.1.3.2. inverse reinforcement learning; 5.2.3.2.2. gaussian processes; 5.2.3.7.3. principal component analysis; 5.2.3.10. markov decision processes\n",
      "\n",
      " CLUSTER 4:\n",
      "\n",
      " Normal:  1.1.1.4.2.gaussian processes; 1.1.1.4.3.modelling; 1.1.1.6.bayesian analysis; 1.1.2.1.data exchange; 1.1.2.3.data modeling; 1.1.2.5.database constraints theory; 1.1.2.7.data structures and algorithms for data management; 1.1.2.12.incomplete; 2.1.1.1.bayesian networks; 2.1.1.3.factor graphs; 2.1.3.5.2.metropolis-hastings algorithm; 2.1.3.7.1.factorial hmm; 2.1.4.probabilistic algorithms; 2.1.5.10.exploratory data analysis; 2.1.6.1.markov processes; 3.1.1.4.physical data models; 3.1.1.5.4.incomplete data; 3.1.3.2.4.join algorithms; 3.1.3.5.4.cloud computing; 3.1.3.9.1.distributed data locking; 3.1.5.3.data exchange; 3.1.5.12.click through data; 3.2.1.6.data stream mining; 3.2.1.7.2.frequent graph mining; 3.2.1.8.process mining; 3.2.1.10.data mining tools; 3.2.1.9.3.market graph; 3.3.1.4.web log analysis; 3.3.1.6.knowledge discovery; 3.4.2.1.query representation; 3.4.2.3.query log analysis; 3.4.3.2.task models; 3.4.4.9.novelty in information retrieval; 3.4.5.4.information extraction; 4.1.2.4.graph drawings; 4.1.3.4.information visualization; 5.1.1.2.information extraction; 5.1.2.1.2.semantic networks; 5.1.2.1.4.probabilistic reasoning; 5.1.2.1.8.logic programming and answer set programming; 5.1.2.1.10.reasoning about belief and knowledge; 5.1.2.2.1. knowledge sharing; 5.1.2.2.8.knowledge graph; 5.1.3.2.2.shape representations; 5.2.1.1.1.ranking; 5.2.1.2.4.topic modeling; 5.2.1.2.7.1.graph embedding; 5.2.3.2.1.1.dynamic; 5.2.3.2.2.gaussian processes; 5.2.3.3.3.2.fuzzy representation; 5.2.3.6.1.perceptron algorithm; 5.2.3.6.2.1.tensor representation; 5.2.3.8.1.neuro-fuzzy approach; 5.2.4.2.2.bagging\n",
      "\n",
      " Upped:  1.1.2.7. data structures and algorithms for data management; 2.1.1.3. factor graphs; 2.1.3.5.2. metropolis-hastings algorithm; 2.1.3.7. kalman filters and hidden markov models; 2.1.4. probabilistic algorithms; 3.1.3.2.4. join algorithms; 3.2.1.8. process mining; 3.2.1.10. data mining tools; 3.2.1.9. sequence mining; 3.3.1.6. knowledge discovery; 4.1.2.4. graph drawings; 5.1.2.1.8. logic programming and answer set programming; 5.1.2.1.10. reasoning about belief and knowledge; 5.1.2.2.1.  knowledge sharing; 5.1.2.2.8. knowledge graph; 5.2.1.2.7. dimensionality reduction and manifold learning; 5.2.3.6. learning linear models\n"
     ]
    }
   ],
   "source": [
    "lapin_matrix = lapin(types_matrix)\n",
    "res_matrix = np.array(faddis_func(lapin_matrix, 0.01, f=faddis))\n",
    "res_matrix = res_matrix * (res_matrix > 0.025)\n",
    "\n",
    "ans = []\n",
    "for i in range(len(res_matrix[0])):\n",
    "    leaves = lists2[res_matrix[:, i] > 0]\n",
    "    res = do_GAP(res_matrix, i, gamma_v=1.5, lambda_v=0.2, thresh=0.05)[-2]\n",
    "    ans.append((leaves, res))\n",
    "    \n",
    "    \n",
    "print(\"Result:\")\n",
    "for i in range(len(res_matrix[0])):\n",
    "    print(\"\\n CLUSTER \" + str(i) + ':')\n",
    "    print(\"\\n\", \"Normal: \", '; '.join(ans[i][0]))\n",
    "    print(\"\\n\", \"Upped: \", ans[i][1])"
   ]
  },
  {
   "cell_type": "code",
   "execution_count": 69,
   "id": "2d388d11",
   "metadata": {},
   "outputs": [
    {
     "name": "stdout",
     "output_type": "stream",
     "text": [
      "Result:\n",
      "\n",
      " CLUSTER 0:\n",
      "\n",
      " Normal:  1.1.1.1.sample complexity and generalization bounds; 1.1.1.2.boolean function learning; 1.1.1.3.unsupervised learning and clustering; 1.1.1.4.1.support vector machines; 1.1.1.4.2.gaussian processes; 1.1.1.4.3.modelling; 1.1.1.5.boosting; 1.1.1.6.bayesian analysis; 1.1.1.7.inductive inference; 1.1.1.8.online learning theory; 1.1.1.9.multi-agent learning; 1.1.1.10.models of learning; 1.1.1.11.query learning; 1.1.1.12.structured prediction; 1.1.1.13.1.sequential decision making; 1.1.1.13.2.inverse reinforcement learning; 1.1.1.13.3.apprenticeship learning; 1.1.1.13.4.multi-agent reinforcement learning; 1.1.1.13.5.adversarial learning; 1.1.1.14.active learning; 1.1.1.15.semi-supervised learning; 1.1.1.16.markov decision processes; 1.1.1.17.regret bounds; 1.1.2.1.data exchange; 1.1.2.2.data provenance; 1.1.2.3.data modeling; 1.1.2.4.database query languages; 1.1.2.5.database constraints theory; 1.1.2.6.database interoperability; 1.1.2.7.data structures and algorithms for data management; 1.1.2.8.database query processing and optimization; 1.1.2.9.data integration; 1.1.2.10.logic and databases; 1.1.2.11.theory of database privacy and security; 1.1.2.12.incomplete; 2.1.1.1.bayesian networks; 2.1.1.2.markov networks; 2.1.1.3.factor graphs; 2.1.1.4.decision diagrams; 2.1.1.5.equational models; 2.1.1.6.causal networks; 2.1.1.7.stochastic differential equations; 2.1.1.8.1.kernel density estimators; 2.1.1.8.2.spline models; 2.1.1.8.3.bayesian nonparametric models; 2.1.2.1.maximum likelihood estimation; 2.1.2.2.bayesian computation; 2.1.2.3.computing most probable explanation; 2.1.2.4.hypothesis testing and confidence interval computation; 2.1.2.5.1. quantile regression; 2.1.2.6.max marginal computation; 2.1.3.1.variable elimination; 2.1.3.2.loopy belief propagation; 2.1.3.3.variational methods; 2.1.3.4.expectation maximization; 2.1.3.5.1.gibbs sampling; 2.1.3.5.2.metropolis-hastings algorithm; 2.1.3.5.3.simulated annealing; 2.1.3.5.4.markov-chain monte carlo convergence measures; 2.1.3.6.sequential monte carlo methods; 2.1.3.7.1.factorial hmm; 2.1.3.8.1.bootstrapping; 2.1.3.8.2.jackknifing; 2.1.3.9.random number generation; 2.1.4.probabilistic algorithms; 2.1.5.1.queueing theory; 2.1.5.2.contingency table analysis; 2.1.5.3.1.robust regression; 2.1.5.4.time series analysis; 2.1.5.5.survival analysis; 2.1.5.6.renewal theory; 2.1.5.7.dimensionality reduction; 2.1.5.8.cluster analysis; 2.1.5.9.statistical graphics; 2.1.5.10.exploratory data analysis; 2.1.6.1.markov processes; 2.1.7.nonparametric statistics; 2.1.8.distribution functions; 2.1.9.multivariate statistics; 2.2.1.tensor decomposition; 2.2.2.tensor factorization; 2.2.3.sparse tensor; 3.1.1.1.relational database model; 3.1.1.2.entity relationship models; 3.1.1.3.1.hierarchical data models; 3.1.1.3.2.network data models; 3.1.1.4.physical data models; 3.1.1.5.1.semi-structured data; 3.1.1.5.2.data streams; 3.1.1.5.3.data provenance; 3.1.1.5.4.incomplete data; 3.1.1.5.5.temporal data; 3.1.1.5.6.uncertainty; 3.1.1.5.7.inconsistent data; 3.1.2.1.1.multidimensional range search; 3.1.2.1.2.data scans; 3.1.2.1.3.point lookups; 3.1.2.1.4.unidimensional range search; 3.1.2.1.5.proximity search; 3.1.2.2.1.data compression; 3.1.2.2.2.data encryption; 3.1.2.2.3.record and block layout; 3.1.3.1.dbms engine architectures; 3.1.3.2.1.query optimization; 3.1.3.2.2.query operators; 3.1.3.2.3.query planning; 3.1.3.2.4.join algorithms; 3.1.3.3.1.data locking; 3.1.3.3.2.transaction logging; 3.1.3.3.3.database recovery; 3.1.3.4.record and buffer management; 3.1.3.5.1.key-value stores; 3.1.3.5.2.mapreduce-based systems; 3.1.3.5.3.relational parallel and distributed dbmss; 3.1.3.5.4.cloud computing; 3.1.3.6.triggers and rules; 3.1.3.7.database views; 3.1.3.8.integrity checking; 3.1.3.9.1.distributed data locking; 3.1.3.9.2.deadlocks; 3.1.3.9.3.distributed database recovery; 3.1.3.10.main memory engines; 3.1.3.11.online analytical processing engines; 3.1.3.12.stream management; 3.1.3.13.1.mapreduce; 3.1.3.13.2.hadoop; 3.1.4.1.1.structured query language; 3.1.4.2.1xpath; 3.1.4.2.2.xquery; 3.1.4.3.1.mapreduce languages; 3.1.4.4.call level interfaces; 3.1.5.1.deduplication; 3.1.5.2.extraction transformation and loading; 3.1.5.3.data exchange; 3.1.5.4.data cleaning; 3.1.5.5.wrappers; 3.1.5.6.mediators and data integration; 3.1.5.7.entity resolution; 3.1.5.8.data warehouses; 3.1.5.9.federated databases; 3.1.5.10.quality of the data; 3.1.5.11.validation of data; 3.1.5.12.click through data; 3.2.1.1.data cleaning; 3.2.1.2.1.item-based; 3.2.1.2.2.scalable; 3.2.1.3.1.types of association rules; 3.2.1.3.2.interestingness; 3.2.1.3.3.parallel computation; 3.2.1.4.1.massive data clustering; 3.2.1.4.2.consensus clustering; 3.2.1.4.3.fuzzy clustering; 3.2.1.4.4.additive clustering; 3.2.1.4.5.feature weight clustering; 3.2.1.4.6.conceptual clustering; 3.2.1.4.7.biclustering; 3.2.1.5.nearest-neighbor search; 3.2.1.6.data stream mining; 3.2.1.7.1.graph partitioning; 3.2.1.7.2.frequent graph mining; 3.2.1.7.3.graph based conceptual clustering; 3.2.1.7.4.anomaly detection; 3.2.1.7.5.critical nodes detection; 3.2.1.8.process mining; 3.2.1.11.1.text categorization; 3.2.1.11.2.key-phrase indexing; 3.2.1.10.data mining tools; 3.2.1.9.1.rule and pattern discovery; 3.2.1.9.2.trajectory clustering; 3.2.1.9.3.market graph; 3.2.1.12.formal concept analysis; 3.3.1.2.site wrapping; 3.3.1.3.1deep web; 3.3.1.3.2.surfacing; 3.3.1.3.3.search results deduplication; 3.3.1.4.web log analysis; 3.3.1.5.traffic analysis; 3.3.1.6.knowledge discovery; 3.4.1.1.document structure; 3.4.1.2.document topic models; 3.4.1.3.content analysis and feature selection; 3.4.1.4.data encoding and canonicalization; 3.4.1.5.document collection models; 3.4.1.6.ontologies; 3.4.1.7.dictionaries; 3.4.1.8.thesauri; 3.4.2.1.query representation; 3.4.2.2.query intent; 3.4.2.3.query log analysis; 3.4.2.4.query suggestion; 3.4.2.5.query reformulation; 3.4.3.1.personalization; 3.4.3.2.task models; 3.4.3.3.search interfaces; 3.4.3.4.collaborative search; 3.4.4.1.rank aggregation; 3.4.4.2.probabilistic retrieval models; 3.4.4.3.language models; 3.4.4.4.similarity measures; 3.4.4.5.learning to rank; 3.4.4.6.combination fusion and federated search; 3.4.4.7.information retrieval diversity; 3.4.4.8.top-k retrieval in databases; 3.4.4.9.novelty in information retrieval; 3.4.5.1.question answering; 3.4.5.2.document filtering; 3.4.5.3.recommender systems; 3.4.5.4.information extraction; 3.4.5.5.sentiment analysis; 3.4.5.6.expert search; 3.4.5.7.near-duplicate and plagiarism detection; 3.4.5.8.clustering and classification; 3.4.5.9.summarization; 3.4.5.10.business intelligence; 3.4.6.1.test collections; 3.4.6.2.relevance assessment; 3.4.6.3.retrieval effectiveness; 3.4.6.4.retrieval efficiency; 3.4.6.5.presentation of retrieval results; 3.4.7.1.1.structured text search; 3.4.7.1.2.mathematics retrieval; 3.4.7.1.3.chemical and biochemical retrieval; 3.4.7.1.4.multilingual and cross-lingual retrieval; 3.4.7.2.1.image search; 3.4.7.2.2.video search; 3.4.7.2.3.speech; 3.4.7.2.4.music retrieval; 3.4.7.3.1.enterprise search; 3.4.7.3.2.desktop search; 3.4.7.3.3.web and social media search; 3.5.1.smart home; 3.5.2.smart city; 4.1.2.1.treemaps; 4.1.2.2.hyperbolic trees; 4.1.2.3.heat maps; 4.1.2.4.graph drawings; 4.1.2.5.dendrograms; 4.1.2.6.cladograms; 4.1.2.7.elastic maps; 4.1.3.1.scientific visualization; 4.1.3.2.visual analytics; 4.1.3.3.geographic visualization; 4.1.3.4.information visualization; 4.1.4.1.visualization toolkits; 4.1.5.visualization theory concepts and paradigms; 4.1.6.empirical studies in visualization; 4.1.7.visualization design and evaluation methods; 5.1.1.2.information extraction; 5.1.1.3.machine translation; 5.1.1.4.discourse dialogue and pragmatics; 5.1.1.5.natural language generation; 5.1.1.6.speech recognition; 5.1.1.7.1.wikipedia based semantics; 5.1.1.8.phonology; 5.1.1.9.language resources; 5.1.2.1.1.description logics; 5.1.2.1.2.semantic networks; 5.1.2.1.3.nonmonotonic; 5.1.2.1.4.probabilistic reasoning; 5.1.2.1.5.vagueness and fuzzy logic; 5.1.2.1.6.causal reasoning and diagnostics; 5.1.2.1.7.temporal reasoning; 5.1.2.1.8.logic programming and answer set programming; 5.1.2.1.9.spatial and physical reasoning; 5.1.2.1.10.reasoning about belief and knowledge; 5.1.2.1.11.answering queries; 5.1.2.2.1. knowledge sharing; 5.1.2.2.2.cognitive robotics; 5.1.2.2.3.ontology engineering; 5.1.2.2.4.semantic inference; 5.1.2.2.5.recommender systems; 5.1.2.2.6.conceptual design; 5.1.2.2.7.schema matching; 5.1.2.2.8.knowledge graph; 5.1.2.2.9.taxonomy mapping; 5.1.3.1.1.interest point and salient region detections; 5.1.3.1.2.image segmentation; 5.1.3.1.3.video segmentation; 5.1.3.1.4.shape inference; 5.1.3.1.5.object detection; 5.1.3.1.6.object recognition; 5.1.3.1.7.object identification; 5.1.3.1.8.tracking; 5.1.3.1.9.reconstruction; 5.1.3.1.10.matching; 5.1.3.2.1.1.2d pca; 5.1.3.2.2.shape representations; 5.1.3.2.3.appearance and texture representations; 5.1.3.2.4.hierarchical representations; 5.2.1.1.1.ranking; 5.2.1.1.2.learning to rank; 5.2.1.1.3.supervised learning by classification; 5.2.1.1.4.supervised learning by regression; 5.2.1.1.5.structured outputs; 5.2.1.1.6.cost-sensitive learning; 5.2.1.2.1.cluster analysis; 5.2.1.2.2.anomaly detection; 5.2.1.2.3.mixture modeling; 5.2.1.2.4.topic modeling; 5.2.1.2.5.source separation; 5.2.1.2.6.motif discovery; 5.2.1.2.7.1.graph embedding; 5.2.1.2.7.2.supervised dimesionality reduction; 5.2.1.3.1.sequential decision making; 5.2.1.3.2.inverse reinforcement learning; 5.2.1.3.3.apprenticeship learning; 5.2.1.3.4.multi-agent reinforcement learning; 5.2.1.3.5.adversarial learning; 5.2.1.4.1.transfer learning; 5.2.1.4.2.lifelong machine learning; 5.2.1.4.3.learning under covariate shift; 5.2.2.1.batch learning; 5.2.2.2.online learning settings; 5.2.2.3.learning from demonstrations; 5.2.2.4.learning from critiques; 5.2.2.5.learning from implicit feedback; 5.2.2.6.active learning settings; 5.2.2.7.1.kernel approach ; 5.2.3.1.1.parallel implementation; 5.2.3.1.2.splitting criteria; 5.2.3.1.3.model trees; 5.2.3.2.1.1.dynamic; 5.2.3.2.2.gaussian processes; 5.2.3.2.3.kernel matrix; 5.2.3.2.4.kernel independent components; 5.2.3.2.5.kernel-based clustering; 5.2.3.3.1.self organized map; 5.2.3.3.2.1.evolutionary approach; 5.2.3.3.3.1.rule-based netwok archirtecture; 5.2.3.3.3.2.fuzzy representation; 5.2.3.3.4.evolving nn; 5.2.3.3.5.ensembling; 5.2.3.4.1.inductive logic learning; 5.2.3.4.2.statistical relational learning; 5.2.3.5.1.maximum likelihood modeling; 5.2.3.5.2.maximum entropy modeling; 5.2.3.5.3.maximum a posteriori modeling; 5.2.3.5.4.mixture models; 5.2.3.5.5.latent variable models; 5.2.3.5.6.bayesian network models; 5.2.3.5.7.markov network models; 5.2.3.6.1.perceptron algorithm; 5.2.3.6.2.1.tensor representation; 5.2.3.7.1.non-negative matrix factorization; 5.2.3.7.2.factor analysis; 5.2.3.7.3.1.2d pca; 5.2.3.7.3.2.sparse pca; 5.2.3.7.4.canonical correlation analysis; 5.2.3.7.6.latent dirichlet allocation; 5.2.3.7.8.independent component analysis; 5.2.3.7.9.nonlinear principal components; 5.2.3.7.10.1.least moduli; 5.2.3.8.1.neuro-fuzzy approach; 5.2.3.9.instance-based learning; 5.2.3.10.markov decision processes; 5.2.3.11.partially-observable markov decision processes; 5.2.3.12.stochastic games; 5.2.3.13.1.deep belief networks; 5.2.3.14.multiresolution; 5.2.3.15.support vector machines; 5.2.4.1.1.value iteration; 5.2.4.1.2.q-learning; 5.2.4.1.3.policy iteration; 5.2.4.1.4.temporal difference learning; 5.2.4.1.5.approximate dynamic programming methods; 5.2.4.2.1.boosting; 5.2.4.2.2.bagging; 5.2.4.2.3.fusion of classifiers; 5.2.4.3.1.spectral clustering; 5.2.4.4.feature selection; 5.2.4.5.1.generalized eigenvalue; 5.2.5.cross-validation; 5.2.6.1auto-encoder; 5.2.6.2.1.pooling; 5.2.6.2.2.dropout; 5.2.6.3.deep reinforcement learning drl; 5.2.6.4.recurrent neural networks rnn; 5.2.6.5.transformer nn; 5.2.6.6.generative adversarial networks gan\n",
      "\n",
      " Upped:   root\n",
      "\n",
      " CLUSTER 1:\n",
      "\n",
      " Normal:  1.1.1.1.sample complexity and generalization bounds; 1.1.1.2.boolean function learning; 1.1.1.3.unsupervised learning and clustering; 1.1.1.4.1.support vector machines; 1.1.1.4.2.gaussian processes; 1.1.1.4.3.modelling; 1.1.1.5.boosting; 1.1.1.6.bayesian analysis; 1.1.1.7.inductive inference; 1.1.1.8.online learning theory; 1.1.1.9.multi-agent learning; 1.1.1.10.models of learning; 1.1.1.11.query learning; 1.1.1.12.structured prediction; 1.1.1.13.1.sequential decision making; 1.1.1.13.2.inverse reinforcement learning; 1.1.1.13.3.apprenticeship learning; 1.1.1.13.4.multi-agent reinforcement learning; 1.1.1.13.5.adversarial learning; 1.1.1.14.active learning; 1.1.1.15.semi-supervised learning; 1.1.1.16.markov decision processes; 1.1.1.17.regret bounds; 1.1.2.1.data exchange; 1.1.2.2.data provenance; 1.1.2.3.data modeling; 1.1.2.4.database query languages; 1.1.2.5.database constraints theory; 1.1.2.6.database interoperability; 1.1.2.7.data structures and algorithms for data management; 1.1.2.8.database query processing and optimization; 1.1.2.9.data integration; 1.1.2.10.logic and databases; 1.1.2.11.theory of database privacy and security; 1.1.2.12.incomplete; 2.1.1.1.bayesian networks; 2.1.1.2.markov networks; 2.1.1.3.factor graphs; 2.1.1.4.decision diagrams; 2.1.1.5.equational models; 2.1.1.6.causal networks; 2.1.1.7.stochastic differential equations; 2.1.1.8.1.kernel density estimators; 2.1.1.8.2.spline models; 2.1.1.8.3.bayesian nonparametric models; 2.1.2.1.maximum likelihood estimation; 2.1.2.2.bayesian computation; 2.1.2.3.computing most probable explanation; 2.1.2.4.hypothesis testing and confidence interval computation; 2.1.2.5.1. quantile regression; 2.1.2.6.max marginal computation; 2.1.3.1.variable elimination; 2.1.3.2.loopy belief propagation; 2.1.3.3.variational methods; 2.1.3.4.expectation maximization; 2.1.3.5.1.gibbs sampling; 2.1.3.5.2.metropolis-hastings algorithm; 2.1.3.5.3.simulated annealing; 2.1.3.5.4.markov-chain monte carlo convergence measures; 2.1.3.6.sequential monte carlo methods; 2.1.3.7.1.factorial hmm; 2.1.3.8.1.bootstrapping; 2.1.3.8.2.jackknifing; 2.1.3.9.random number generation; 2.1.4.probabilistic algorithms; 2.1.5.1.queueing theory; 2.1.5.2.contingency table analysis; 2.1.5.3.1.robust regression; 2.1.5.4.time series analysis; 2.1.5.5.survival analysis; 2.1.5.6.renewal theory; 2.1.5.7.dimensionality reduction; 2.1.5.8.cluster analysis; 2.1.5.9.statistical graphics; 2.1.5.10.exploratory data analysis; 2.1.6.1.markov processes; 2.1.7.nonparametric statistics; 2.1.8.distribution functions; 2.1.9.multivariate statistics; 2.2.1.tensor decomposition; 2.2.2.tensor factorization; 2.2.3.sparse tensor; 3.1.1.1.relational database model; 3.1.1.2.entity relationship models; 3.1.1.3.1.hierarchical data models; 3.1.1.3.2.network data models; 3.1.1.4.physical data models; 3.1.1.5.1.semi-structured data; 3.1.1.5.2.data streams; 3.1.1.5.3.data provenance; 3.1.1.5.4.incomplete data; 3.1.1.5.5.temporal data; 3.1.1.5.6.uncertainty; 3.1.1.5.7.inconsistent data; 3.1.2.1.1.multidimensional range search; 3.1.2.1.2.data scans; 3.1.2.1.3.point lookups; 3.1.2.1.4.unidimensional range search; 3.1.2.1.5.proximity search; 3.1.2.2.1.data compression; 3.1.2.2.2.data encryption; 3.1.2.2.3.record and block layout; 3.1.3.1.dbms engine architectures; 3.1.3.2.1.query optimization; 3.1.3.2.2.query operators; 3.1.3.2.3.query planning; 3.1.3.2.4.join algorithms; 3.1.3.3.1.data locking; 3.1.3.3.2.transaction logging; 3.1.3.3.3.database recovery; 3.1.3.4.record and buffer management; 3.1.3.5.1.key-value stores; 3.1.3.5.2.mapreduce-based systems; 3.1.3.5.3.relational parallel and distributed dbmss; 3.1.3.5.4.cloud computing; 3.1.3.6.triggers and rules; 3.1.3.7.database views; 3.1.3.8.integrity checking; 3.1.3.9.1.distributed data locking; 3.1.3.9.2.deadlocks; 3.1.3.9.3.distributed database recovery; 3.1.3.10.main memory engines; 3.1.3.11.online analytical processing engines; 3.1.3.12.stream management; 3.1.3.13.1.mapreduce; 3.1.3.13.2.hadoop; 3.1.4.1.1.structured query language; 3.1.4.2.1xpath; 3.1.4.2.2.xquery; 3.1.4.3.1.mapreduce languages; 3.1.4.4.call level interfaces; 3.1.5.1.deduplication; 3.1.5.2.extraction transformation and loading; 3.1.5.3.data exchange; 3.1.5.4.data cleaning; 3.1.5.5.wrappers; 3.1.5.6.mediators and data integration; 3.1.5.7.entity resolution; 3.1.5.8.data warehouses; 3.1.5.9.federated databases; 3.1.5.10.quality of the data; 3.1.5.11.validation of data; 3.1.5.12.click through data; 3.2.1.1.data cleaning; 3.2.1.2.1.item-based; 3.2.1.2.2.scalable; 3.2.1.3.1.types of association rules; 3.2.1.3.2.interestingness; 3.2.1.3.3.parallel computation; 3.2.1.4.1.massive data clustering; 3.2.1.4.2.consensus clustering; 3.2.1.4.3.fuzzy clustering; 3.2.1.4.4.additive clustering; 3.2.1.4.5.feature weight clustering; 3.2.1.4.6.conceptual clustering; 3.2.1.4.7.biclustering; 3.2.1.5.nearest-neighbor search; 3.2.1.6.data stream mining; 3.2.1.7.1.graph partitioning; 3.2.1.7.2.frequent graph mining; 3.2.1.7.3.graph based conceptual clustering; 3.2.1.7.4.anomaly detection; 3.2.1.7.5.critical nodes detection; 3.2.1.8.process mining; 3.2.1.11.1.text categorization; 3.2.1.11.2.key-phrase indexing; 3.2.1.10.data mining tools; 3.2.1.9.1.rule and pattern discovery; 3.2.1.9.2.trajectory clustering; 3.2.1.9.3.market graph; 3.2.1.12.formal concept analysis; 3.3.1.2.site wrapping; 3.3.1.3.1deep web; 3.3.1.3.2.surfacing; 3.3.1.3.3.search results deduplication; 3.3.1.4.web log analysis; 3.3.1.5.traffic analysis; 3.3.1.6.knowledge discovery; 3.4.1.1.document structure; 3.4.1.2.document topic models; 3.4.1.3.content analysis and feature selection; 3.4.1.4.data encoding and canonicalization; 3.4.1.5.document collection models; 3.4.1.6.ontologies; 3.4.1.7.dictionaries; 3.4.1.8.thesauri; 3.4.2.1.query representation; 3.4.2.2.query intent; 3.4.2.3.query log analysis; 3.4.2.4.query suggestion; 3.4.2.5.query reformulation; 3.4.3.1.personalization; 3.4.3.2.task models; 3.4.3.3.search interfaces; 3.4.3.4.collaborative search; 3.4.4.1.rank aggregation; 3.4.4.2.probabilistic retrieval models; 3.4.4.3.language models; 3.4.4.4.similarity measures; 3.4.4.5.learning to rank; 3.4.4.6.combination fusion and federated search; 3.4.4.7.information retrieval diversity; 3.4.4.8.top-k retrieval in databases; 3.4.4.9.novelty in information retrieval; 3.4.5.1.question answering; 3.4.5.2.document filtering; 3.4.5.3.recommender systems; 3.4.5.4.information extraction; 3.4.5.5.sentiment analysis; 3.4.5.6.expert search; 3.4.5.7.near-duplicate and plagiarism detection; 3.4.5.8.clustering and classification; 3.4.5.9.summarization; 3.4.5.10.business intelligence; 3.4.6.1.test collections; 3.4.6.2.relevance assessment; 3.4.6.3.retrieval effectiveness; 3.4.6.4.retrieval efficiency; 3.4.6.5.presentation of retrieval results; 3.4.7.1.1.structured text search; 3.4.7.1.2.mathematics retrieval; 3.4.7.1.3.chemical and biochemical retrieval; 3.4.7.1.4.multilingual and cross-lingual retrieval; 3.4.7.2.1.image search; 3.4.7.2.2.video search; 3.4.7.2.3.speech; 3.4.7.2.4.music retrieval; 3.4.7.3.1.enterprise search; 3.4.7.3.2.desktop search; 3.4.7.3.3.web and social media search; 3.5.1.smart home; 3.5.2.smart city; 4.1.2.1.treemaps; 4.1.2.2.hyperbolic trees; 4.1.2.3.heat maps; 4.1.2.4.graph drawings; 4.1.2.5.dendrograms; 4.1.2.6.cladograms; 4.1.2.7.elastic maps; 4.1.3.1.scientific visualization; 4.1.3.2.visual analytics; 4.1.3.3.geographic visualization; 4.1.3.4.information visualization; 4.1.4.1.visualization toolkits; 4.1.5.visualization theory concepts and paradigms; 4.1.6.empirical studies in visualization; 4.1.7.visualization design and evaluation methods; 5.1.1.2.information extraction; 5.1.1.3.machine translation; 5.1.1.4.discourse dialogue and pragmatics; 5.1.1.5.natural language generation; 5.1.1.6.speech recognition; 5.1.1.7.1.wikipedia based semantics; 5.1.1.8.phonology; 5.1.1.9.language resources; 5.1.2.1.1.description logics; 5.1.2.1.2.semantic networks; 5.1.2.1.3.nonmonotonic; 5.1.2.1.4.probabilistic reasoning; 5.1.2.1.5.vagueness and fuzzy logic; 5.1.2.1.6.causal reasoning and diagnostics; 5.1.2.1.7.temporal reasoning; 5.1.2.1.8.logic programming and answer set programming; 5.1.2.1.9.spatial and physical reasoning; 5.1.2.1.10.reasoning about belief and knowledge; 5.1.2.1.11.answering queries; 5.1.2.2.1. knowledge sharing; 5.1.2.2.2.cognitive robotics; 5.1.2.2.3.ontology engineering; 5.1.2.2.4.semantic inference; 5.1.2.2.5.recommender systems; 5.1.2.2.6.conceptual design; 5.1.2.2.7.schema matching; 5.1.2.2.8.knowledge graph; 5.1.2.2.9.taxonomy mapping; 5.1.3.1.1.interest point and salient region detections; 5.1.3.1.2.image segmentation; 5.1.3.1.3.video segmentation; 5.1.3.1.4.shape inference; 5.1.3.1.5.object detection; 5.1.3.1.6.object recognition; 5.1.3.1.7.object identification; 5.1.3.1.8.tracking; 5.1.3.1.9.reconstruction; 5.1.3.1.10.matching; 5.1.3.2.1.1.2d pca; 5.1.3.2.2.shape representations; 5.1.3.2.3.appearance and texture representations; 5.1.3.2.4.hierarchical representations; 5.2.1.1.1.ranking; 5.2.1.1.2.learning to rank; 5.2.1.1.3.supervised learning by classification; 5.2.1.1.4.supervised learning by regression; 5.2.1.1.5.structured outputs; 5.2.1.1.6.cost-sensitive learning; 5.2.1.2.1.cluster analysis; 5.2.1.2.2.anomaly detection; 5.2.1.2.3.mixture modeling; 5.2.1.2.4.topic modeling; 5.2.1.2.5.source separation; 5.2.1.2.6.motif discovery; 5.2.1.2.7.1.graph embedding; 5.2.1.2.7.2.supervised dimesionality reduction; 5.2.1.3.1.sequential decision making; 5.2.1.3.2.inverse reinforcement learning; 5.2.1.3.3.apprenticeship learning; 5.2.1.3.4.multi-agent reinforcement learning; 5.2.1.3.5.adversarial learning; 5.2.1.4.1.transfer learning; 5.2.1.4.2.lifelong machine learning; 5.2.1.4.3.learning under covariate shift; 5.2.2.1.batch learning; 5.2.2.2.online learning settings; 5.2.2.3.learning from demonstrations; 5.2.2.4.learning from critiques; 5.2.2.5.learning from implicit feedback; 5.2.2.6.active learning settings; 5.2.2.7.1.kernel approach ; 5.2.3.1.1.parallel implementation; 5.2.3.1.2.splitting criteria; 5.2.3.1.3.model trees; 5.2.3.2.1.1.dynamic; 5.2.3.2.2.gaussian processes; 5.2.3.2.3.kernel matrix; 5.2.3.2.4.kernel independent components; 5.2.3.2.5.kernel-based clustering; 5.2.3.3.1.self organized map; 5.2.3.3.2.1.evolutionary approach; 5.2.3.3.3.1.rule-based netwok archirtecture; 5.2.3.3.3.2.fuzzy representation; 5.2.3.3.4.evolving nn; 5.2.3.3.5.ensembling; 5.2.3.4.1.inductive logic learning; 5.2.3.4.2.statistical relational learning; 5.2.3.5.1.maximum likelihood modeling; 5.2.3.5.2.maximum entropy modeling; 5.2.3.5.3.maximum a posteriori modeling; 5.2.3.5.4.mixture models; 5.2.3.5.5.latent variable models; 5.2.3.5.6.bayesian network models; 5.2.3.5.7.markov network models; 5.2.3.6.1.perceptron algorithm; 5.2.3.6.2.1.tensor representation; 5.2.3.7.1.non-negative matrix factorization; 5.2.3.7.2.factor analysis; 5.2.3.7.3.1.2d pca; 5.2.3.7.3.2.sparse pca; 5.2.3.7.4.canonical correlation analysis; 5.2.3.7.6.latent dirichlet allocation; 5.2.3.7.8.independent component analysis; 5.2.3.7.9.nonlinear principal components; 5.2.3.7.10.1.least moduli; 5.2.3.8.1.neuro-fuzzy approach; 5.2.3.9.instance-based learning; 5.2.3.10.markov decision processes; 5.2.3.11.partially-observable markov decision processes; 5.2.3.12.stochastic games; 5.2.3.13.1.deep belief networks; 5.2.3.14.multiresolution; 5.2.3.15.support vector machines; 5.2.4.1.1.value iteration; 5.2.4.1.2.q-learning; 5.2.4.1.3.policy iteration; 5.2.4.1.4.temporal difference learning; 5.2.4.1.5.approximate dynamic programming methods; 5.2.4.2.1.boosting; 5.2.4.2.2.bagging; 5.2.4.2.3.fusion of classifiers; 5.2.4.3.1.spectral clustering; 5.2.4.4.feature selection; 5.2.4.5.1.generalized eigenvalue; 5.2.5.cross-validation; 5.2.6.1auto-encoder; 5.2.6.2.1.pooling; 5.2.6.2.2.dropout; 5.2.6.3.deep reinforcement learning drl; 5.2.6.4.recurrent neural networks rnn; 5.2.6.5.transformer nn; 5.2.6.6.generative adversarial networks gan\n",
      "\n",
      " Upped:   root\n"
     ]
    }
   ],
   "source": [
    "lapin_matrix = lapin(types_matrix)\n",
    "res_matrix = np.array(fcm(lapin_matrix, 2))\n",
    "res_matrix = res_matrix * (res_matrix > 0.01)\n",
    "\n",
    "ans = []\n",
    "for i in range(len(res_matrix[0])):\n",
    "    leaves = lists2[res_matrix[:, i] > 0]\n",
    "    res = do_GAP(res_matrix, i, gamma_v=1.5, lambda_v=0.2, thresh=0.05)[-2]\n",
    "    ans.append((leaves, res))\n",
    "    \n",
    "    \n",
    "print(\"Result:\")\n",
    "for i in range(len(res_matrix[0])):\n",
    "    print(\"\\n CLUSTER \" + str(i) + ':')\n",
    "    print(\"\\n\", \"Normal: \", '; '.join(ans[i][0]))\n",
    "    print(\"\\n\", \"Upped: \", ans[i][1])"
   ]
  }
 ],
 "metadata": {
  "kernelspec": {
   "display_name": "Python 3 (ipykernel)",
   "language": "python",
   "name": "python3"
  },
  "language_info": {
   "codemirror_mode": {
    "name": "ipython",
    "version": 3
   },
   "file_extension": ".py",
   "mimetype": "text/x-python",
   "name": "python",
   "nbconvert_exporter": "python",
   "pygments_lexer": "ipython3",
   "version": "3.10.6"
  }
 },
 "nbformat": 4,
 "nbformat_minor": 5
}

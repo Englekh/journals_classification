{
 "cells": [
  {
   "cell_type": "markdown",
   "id": "fd0a8a53",
   "metadata": {},
   "source": [
    "# Clusterization\n",
    "\n",
    "This notebook hold research results. Of clusterization of all matricies. "
   ]
  },
  {
   "cell_type": "code",
   "execution_count": 1,
   "id": "39db97c9",
   "metadata": {},
   "outputs": [],
   "source": [
    "import matplotlib.pyplot as plt\n",
    "import numpy as np\n",
    "\n",
    "from fcmeans import FCM\n",
    "from lapin import lapin\n",
    "from faddis import faddis\n",
    "from IPython.display import clear_output\n",
    "from got.taxonomies.taxonomy import Taxonomy\n",
    "from got.taxonomies.pargenfs import get_cluster_k, pargenfs"
   ]
  },
  {
   "cell_type": "code",
   "execution_count": 2,
   "id": "28348ba3",
   "metadata": {},
   "outputs": [],
   "source": [
    "tax = Taxonomy(\"data/Taxonomy.txt\")\n",
    "lists2 = []\n",
    "for leave in tax.leaves:\n",
    "    lists2.append(leave.index + leave.name)\n",
    "lists2 = np.array(lists2)"
   ]
  },
  {
   "cell_type": "code",
   "execution_count": 3,
   "id": "4b7e7a6e",
   "metadata": {},
   "outputs": [],
   "source": [
    "file = open('Results.txt', 'w')"
   ]
  },
  {
   "cell_type": "markdown",
   "id": "9543306d",
   "metadata": {},
   "source": [
    "## Functions"
   ]
  },
  {
   "cell_type": "code",
   "execution_count": 4,
   "id": "3ffc2f37",
   "metadata": {},
   "outputs": [],
   "source": [
    "def faddis_func(matrix, thresh, f = faddis):\n",
    "    B, member, contrib, intensity, lat, tt = f(matrix, thresh)\n",
    "    return member.tolist()\n",
    "\n",
    "def fcm(matrix, cl=4):\n",
    "    fcm = FCM(n_clusters=cl, max_iter=500)\n",
    "    fcm.fit(matrix)\n",
    "    return fcm.soft_predict(matrix).tolist()\n",
    "\n",
    "def do_GAP(res_matrix, num = 0, gamma_v=0.5, lambda_v=0.5, thresh=0.05):\n",
    "    tax = Taxonomy(\"data/Taxonomy.txt\")\n",
    "    \n",
    "    names = []\n",
    "    for leave in tax.leaves:\n",
    "        names.append(leave.name)\n",
    "    l_dict = get_cluster_k(tax.leaves, names, res_matrix, num)\n",
    "    summ = 0\n",
    "    for el in l_dict:\n",
    "        summ += l_dict[el]\n",
    "    res = pargenfs(l_dict, tax, gamma_v=gamma_v, lambda_v=lambda_v, threshold=0.05)\n",
    "    clear_output()\n",
    "    return res[-1]"
   ]
  },
  {
   "cell_type": "markdown",
   "id": "2bf0c46e",
   "metadata": {},
   "source": [
    "## Abstract normal matrix"
   ]
  },
  {
   "cell_type": "code",
   "execution_count": 5,
   "id": "22cecac8",
   "metadata": {},
   "outputs": [],
   "source": [
    "types_matrix = np.loadtxt('data/NCrossMatrix1_1.txt')"
   ]
  },
  {
   "cell_type": "code",
   "execution_count": 6,
   "id": "d48d8ef1",
   "metadata": {},
   "outputs": [],
   "source": [
    "plt.hist(types_matrix.flatten(), bins = 50)\n",
    "plt.yscale('log')"
   ]
  },
  {
   "cell_type": "code",
   "execution_count": 7,
   "id": "eb0d1fab",
   "metadata": {},
   "outputs": [],
   "source": [
    "lapin_matrix = lapin(types_matrix)\n",
    "res_matrix = np.array(faddis_func(lapin_matrix, 0.01, f=faddis))\n",
    "res_matrix = res_matrix * (res_matrix > 0.01)\n",
    "\n",
    "ans = []\n",
    "for i in range(len(res_matrix[0])):\n",
    "    leaves = lists2[res_matrix[:, i] > 0]\n",
    "    res = do_GAP(res_matrix, i, gamma_v=1.5, lambda_v=0.2, thresh=0.05)[-2]\n",
    "    ans.append((leaves, res))\n",
    "    \n",
    "    \n",
    "print(\"Result:\")\n",
    "file.write('Abstract matrix, standart agregation:\\n')\n",
    "for i in range(len(res_matrix[0])):\n",
    "    file.write(\"\\n CLUSTER \" + str(i + 1) + ':')\n",
    "    print(\"\\n CLUSTER \" + str(i + 1) + ':')\n",
    "    file.write(\"\\n\" + \"Normal: \" + '; '.join(ans[i][0]) + '\\n')\n",
    "    print(\"\\n\", \"Normal: \", '; '.join(ans[i][0]))\n",
    "    file.write(\"\\n\" + \"Generalization: \" + ans[i][1] + '\\n\\n')\n",
    "    print(\"\\n\", \"Upped: \", ans[i][1])"
   ]
  },
  {
   "cell_type": "markdown",
   "id": "f1f05e37",
   "metadata": {},
   "source": [
    "## Abstract second matrix"
   ]
  },
  {
   "cell_type": "code",
   "execution_count": 8,
   "id": "74449623",
   "metadata": {},
   "outputs": [],
   "source": [
    "types_matrix = np.loadtxt('data/NCrossMatrix2_1.txt')"
   ]
  },
  {
   "cell_type": "code",
   "execution_count": 9,
   "id": "c1440d75",
   "metadata": {},
   "outputs": [],
   "source": [
    "plt.hist(types_matrix.flatten(), bins = 50)\n",
    "plt.yscale('log')"
   ]
  },
  {
   "cell_type": "code",
   "execution_count": 10,
   "id": "579e12ac",
   "metadata": {
    "scrolled": false
   },
   "outputs": [],
   "source": [
    "lapin_matrix = lapin(types_matrix)\n",
    "res_matrix = np.array(faddis_func(lapin_matrix, 0.01, f=faddis))\n",
    "res_matrix = res_matrix * (res_matrix > 0.01)\n",
    "\n",
    "ans = []\n",
    "for i in range(len(res_matrix[0])):\n",
    "    leaves = lists2[res_matrix[:, i] > 0]\n",
    "    res = do_GAP(res_matrix, i, gamma_v=1.5, lambda_v=0.2, thresh=0.05)[-2]\n",
    "    ans.append((leaves, res))\n",
    "    \n",
    "    \n",
    "print(\"Result:\")\n",
    "file.write('Abstract matrix, new agregation:\\n')\n",
    "for i in range(len(res_matrix[0])):\n",
    "    file.write(\"\\n CLUSTER \" + str(i + 1) + ':')\n",
    "    print(\"\\n CLUSTER \" + str(i + 1) + ':')\n",
    "    file.write(\"\\n\" + \"Normal: \" + '; '.join(ans[i][0]) + '\\n')\n",
    "    print(\"\\n\", \"Normal: \", '; '.join(ans[i][0]))\n",
    "    file.write(\"\\n\" + \"Generalization: \" + ans[i][1] + '\\n\\n')\n",
    "    print(\"\\n\", \"Upped: \", ans[i][1])"
   ]
  },
  {
   "cell_type": "markdown",
   "id": "981cedb4",
   "metadata": {},
   "source": [
    "## Keywords first matrix"
   ]
  },
  {
   "cell_type": "code",
   "execution_count": 11,
   "id": "b4b85668",
   "metadata": {},
   "outputs": [],
   "source": [
    "types_matrix = np.loadtxt('data/NCrossMatrix1_2.txt')"
   ]
  },
  {
   "cell_type": "code",
   "execution_count": 12,
   "id": "66c26ed2",
   "metadata": {},
   "outputs": [],
   "source": [
    "plt.hist(types_matrix.flatten(), bins = 50)\n",
    "plt.yscale('log')"
   ]
  },
  {
   "cell_type": "code",
   "execution_count": 13,
   "id": "ef9b55c0",
   "metadata": {},
   "outputs": [],
   "source": [
    "lapin_matrix = lapin(types_matrix)\n",
    "res_matrix = np.array(faddis_func(lapin_matrix, 0.01, f=faddis))\n",
    "res_matrix = res_matrix * (res_matrix > 0.01)\n",
    "\n",
    "ans = []\n",
    "for i in range(len(res_matrix[0])):\n",
    "    leaves = lists2[res_matrix[:, i] > 0]\n",
    "    res = do_GAP(res_matrix, i, gamma_v=1.5, lambda_v=0.2, thresh=0.05)[-2]\n",
    "    ans.append((leaves, res))\n",
    "    \n",
    "    \n",
    "print(\"Result:\")\n",
    "file.write('Keyword matrix, standart agregation:\\n')\n",
    "for i in range(len(res_matrix[0])):\n",
    "    file.write(\"\\n CLUSTER \" + str(i + 1) + ':')\n",
    "    print(\"\\n CLUSTER \" + str(i + 1) + ':')\n",
    "    file.write(\"\\n\" + \"Normal: \" + '; '.join(ans[i][0]) + '\\n')\n",
    "    print(\"\\n\", \"Normal: \", '; '.join(ans[i][0]))\n",
    "    file.write(\"\\n\" + \"Generalization: \" + ans[i][1] + '\\n\\n')\n",
    "    print(\"\\n\", \"Upped: \", ans[i][1])"
   ]
  },
  {
   "cell_type": "markdown",
   "id": "9903ae73",
   "metadata": {},
   "source": [
    "## Keywords second matrix"
   ]
  },
  {
   "cell_type": "code",
   "execution_count": 14,
   "id": "a3da63c5",
   "metadata": {},
   "outputs": [],
   "source": [
    "types_matrix = np.loadtxt('data/NCrossMatrix2_2.txt')"
   ]
  },
  {
   "cell_type": "code",
   "execution_count": 15,
   "id": "739d5fb3",
   "metadata": {},
   "outputs": [],
   "source": [
    "plt.hist(types_matrix.flatten(), bins = 50)\n",
    "plt.yscale('log')"
   ]
  },
  {
   "cell_type": "code",
   "execution_count": 16,
   "id": "30554c8e",
   "metadata": {},
   "outputs": [],
   "source": [
    "lapin_matrix = lapin(types_matrix)\n",
    "res_matrix = np.array(faddis_func(lapin_matrix, 0.01, f=faddis))\n",
    "res_matrix = res_matrix * (res_matrix > 0.025)\n",
    "\n",
    "ans = []\n",
    "for i in range(len(res_matrix[0])):\n",
    "    leaves = lists2[res_matrix[:, i] > 0]\n",
    "    res = do_GAP(res_matrix, i, gamma_v=1.5, lambda_v=0.2, thresh=0.05)[-2]\n",
    "    ans.append((leaves, res))\n",
    "    \n",
    "    \n",
    "print(\"Result:\")\n",
    "file.write('Keyword matrix, new agregation:\\n')\n",
    "for i in range(len(res_matrix[0])):\n",
    "    file.write(\"\\n CLUSTER \" + str(i + 1) + ':')\n",
    "    print(\"\\n CLUSTER \" + str(i + 1) + ':')\n",
    "    file.write(\"\\n\" + \"Normal: \" + '; '.join(ans[i][0]) + '\\n')\n",
    "    print(\"\\n\", \"Normal: \", '; '.join(ans[i][0]))\n",
    "    file.write(\"\\n\" + \"Generalization: \" + ans[i][1] + '\\n\\n')\n",
    "    print(\"\\n\", \"Upped: \", ans[i][1])"
   ]
  },
  {
   "cell_type": "code",
   "execution_count": 17,
   "id": "39277b4c",
   "metadata": {},
   "outputs": [],
   "source": [
    "file.close()"
   ]
  },
  {
   "cell_type": "code",
   "execution_count": 18,
   "id": "2d388d11",
   "metadata": {},
   "outputs": [],
   "source": [
    "lapin_matrix = lapin(types_matrix)\n",
    "res_matrix = np.array(fcm(lapin_matrix, 2))\n",
    "res_matrix = res_matrix * (res_matrix > 0.5)\n",
    "\n",
    "ans = []\n",
    "for i in range(len(res_matrix[0])):\n",
    "    leaves = lists2[res_matrix[:, i] > 0]\n",
    "    res = do_GAP(res_matrix, i, gamma_v=1.5, lambda_v=0.2, thresh=0.05)[-2]\n",
    "    ans.append((leaves, res))\n",
    "    \n",
    "    \n",
    "print(\"Result:\")\n",
    "for i in range(len(res_matrix[0])):\n",
    "    print(\"\\n CLUSTER \" + str(i) + ':')\n",
    "    print(\"\\n\", \"Normal: \", '; '.join(ans[i][0]))\n",
    "    print(\"\\n\", \"Upped: \", ans[i][1])"
   ]
  }
 ],
 "metadata": {
  "kernelspec": {
   "display_name": "Python 3 (ipykernel)",
   "language": "python",
   "name": "python3"
  },
  "language_info": {
   "codemirror_mode": {
    "name": "ipython",
    "version": 3
   },
   "file_extension": ".py",
   "mimetype": "text/x-python",
   "name": "python",
   "nbconvert_exporter": "python",
   "pygments_lexer": "ipython3",
   "version": "3.10.6"
  }
 },
 "nbformat": 4,
 "nbformat_minor": 5
}
